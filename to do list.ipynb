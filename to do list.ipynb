{
 "cells": [
  {
   "cell_type": "code",
   "execution_count": 5,
   "metadata": {},
   "outputs": [
    {
     "name": "stdout",
     "output_type": "stream",
     "text": [
      "put your task to Do here and then type 'submit '\n",
      " calls\n",
      " email to Boss\n",
      " presentation \n",
      " home work \n",
      " submit\n",
      "********************\n",
      "0 calls\n",
      "1 email to Boss\n",
      "2 presentation \n",
      "3 home work \n",
      "\n",
      "For delete any task press '1' \n",
      "For delete All task press '0' \n",
      "1\n",
      "enter your task index number to delete \n",
      " 2\n",
      "\n",
      "your Remaing task \n",
      "0 calls\n",
      "1 email to Boss\n",
      "2 home work \n"
     ]
    }
   ],
   "source": [
    "task_list =[]\n",
    "task = \" \"\n",
    "print(\"put your task to Do here and then type 'submit '\")\n",
    "while task !=\"submit\" :\n",
    "    task=input(\" \")\n",
    "    task_list.append(task)\n",
    "    All_tasks = task_list\n",
    "    if task == \"submit\":\n",
    "        All_tasks.remove(\"submit\")\n",
    "        print(\"********************\")\n",
    "        for index, value in enumerate(All_tasks):\n",
    "            print(index,value)\n",
    "        break       \n",
    "dell_1 = int(input(\"\\nFor delete any task press '1' \\nFor delete All task press '0' \\n\"))\n",
    "if dell_1 == 1 :\n",
    "    delete_task = \" \"\n",
    "    delete_task = int(input(\"enter your task index number to delete \\n \"))\n",
    "    task_list.pop(delete_task)\n",
    "    remain = task_list\n",
    "    print(\"\\nyour Remaing task \")\n",
    "    for index,value in enumerate(remain):\n",
    "        print(index,value )\n",
    "elif dell_1 == 0 : \n",
    "    del task_list[:]\n",
    "    print(\"your task list has been empty \",task_list)"
   ]
  },
  {
   "cell_type": "code",
   "execution_count": 3,
   "metadata": {},
   "outputs": [
    {
     "name": "stdout",
     "output_type": "stream",
     "text": [
      "put your task to Do here and then type 'submit '\n",
      " calls\n",
      " sms\n",
      " tomorrow meeting \n",
      " class work \n",
      " submit\n",
      "********************\n",
      "0 calls\n",
      "1 sms\n",
      "2 tomorrow meeting \n",
      "3 class work \n",
      "\n",
      "For delete any task press '1' \n",
      "For delete All task press '0' \n",
      "0\n",
      "your task list has been empty  []\n"
     ]
    }
   ],
   "source": [
    "task_list =[]\n",
    "task = \" \"\n",
    "print(\"put your task to Do here and then type 'submit '\")\n",
    "while task !=\"submit\" :\n",
    "    task=input(\" \")\n",
    "    task_list.append(task)\n",
    "    All_tasks = task_list\n",
    "    if task == \"submit\":\n",
    "        All_tasks.remove(\"submit\")\n",
    "        print(\"********************\")\n",
    "        for index, value in enumerate(All_tasks):\n",
    "            print(index,value)\n",
    "        break       \n",
    "dell_1 = int(input(\"\\nFor delete any task press '1' \\nFor delete All task press '0' \\n\"))\n",
    "if dell_1 == 1 :\n",
    "    delete_task = \" \"\n",
    "    delete_task = int(input(\"enter your task index number to delete \\n \"))\n",
    "    task_list.pop(delete_task)\n",
    "    remain = task_list\n",
    "    print(\"\\nyour Remaing task \")\n",
    "    for index,value in enumerate(remain):\n",
    "        print(index,value )\n",
    "elif dell_1 == 0 : \n",
    "    del task_list[:]\n",
    "    print(\"your task list has been empty \",task_list)"
   ]
  },
  {
   "cell_type": "code",
   "execution_count": null,
   "metadata": {},
   "outputs": [],
   "source": []
  },
  {
   "cell_type": "code",
   "execution_count": null,
   "metadata": {},
   "outputs": [],
   "source": []
  },
  {
   "cell_type": "code",
   "execution_count": null,
   "metadata": {},
   "outputs": [],
   "source": []
  }
 ],
 "metadata": {
  "kernelspec": {
   "display_name": "Python 3",
   "language": "python",
   "name": "python3"
  },
  "language_info": {
   "codemirror_mode": {
    "name": "ipython",
    "version": 3
   },
   "file_extension": ".py",
   "mimetype": "text/x-python",
   "name": "python",
   "nbconvert_exporter": "python",
   "pygments_lexer": "ipython3",
   "version": "3.7.3"
  }
 },
 "nbformat": 4,
 "nbformat_minor": 2
}
